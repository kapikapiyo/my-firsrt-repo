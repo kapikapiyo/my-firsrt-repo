{
  "nbformat": 4,
  "nbformat_minor": 0,
  "metadata": {
    "colab": {
      "provenance": [],
      "authorship_tag": "ABX9TyM0MGdB0ukjz8yzVzZziRvB",
      "include_colab_link": true
    },
    "kernelspec": {
      "name": "python3",
      "display_name": "Python 3"
    },
    "language_info": {
      "name": "python"
    }
  },
  "cells": [
    {
      "cell_type": "markdown",
      "metadata": {
        "id": "view-in-github",
        "colab_type": "text"
      },
      "source": [
        "<a href=\"https://colab.research.google.com/github/kapikapiyo/my-firsrt-repo/blob/main/Ryoshi.ipynb\" target=\"_parent\"><img src=\"https://colab.research.google.com/assets/colab-badge.svg\" alt=\"Open In Colab\"/></a>"
      ]
    },
    {
      "cell_type": "code",
      "execution_count": 3,
      "metadata": {
        "id": "_d6x-A7hf2vB"
      },
      "outputs": [],
      "source": [
        "import numpy as np"
      ]
    },
    {
      "cell_type": "code",
      "source": [
        "N = 10"
      ],
      "metadata": {
        "id": "AjQOZ68XgE69"
      },
      "execution_count": 4,
      "outputs": []
    },
    {
      "cell_type": "code",
      "source": [
        "w = np.random.rand(N)"
      ],
      "metadata": {
        "id": "ZcXy52T0g6MA"
      },
      "execution_count": 5,
      "outputs": []
    },
    {
      "cell_type": "code",
      "source": [
        "w"
      ],
      "metadata": {
        "colab": {
          "base_uri": "https://localhost:8080/",
          "height": 0
        },
        "id": "01Gl4Y4Gg9wu",
        "outputId": "919c1e42-d4d8-4246-a470-401d071d4e09"
      },
      "execution_count": 6,
      "outputs": [
        {
          "output_type": "execute_result",
          "data": {
            "text/plain": [
              "array([0.42801216, 0.83897009, 0.48897574, 0.37416165, 0.35227284,\n",
              "       0.12865694, 0.11163247, 0.15581154, 0.37553175, 0.86088449])"
            ]
          },
          "metadata": {},
          "execution_count": 6
        }
      ]
    },
    {
      "cell_type": "code",
      "source": [
        "W = np.sum(w)"
      ],
      "metadata": {
        "id": "katECSTMg-_a"
      },
      "execution_count": 7,
      "outputs": []
    },
    {
      "cell_type": "code",
      "source": [
        "Q = np.zeros(N**2).reshape(N,N)"
      ],
      "metadata": {
        "id": "vTOKFfXPhPHU"
      },
      "execution_count": 9,
      "outputs": []
    },
    {
      "cell_type": "code",
      "source": [
        "Q"
      ],
      "metadata": {
        "colab": {
          "base_uri": "https://localhost:8080/",
          "height": 0
        },
        "id": "hIkYL4QWhRhP",
        "outputId": "a0e83702-ee48-40ba-d1fb-b2ce2d85e821"
      },
      "execution_count": 10,
      "outputs": [
        {
          "output_type": "execute_result",
          "data": {
            "text/plain": [
              "array([[0., 0., 0., 0., 0., 0., 0., 0., 0., 0.],\n",
              "       [0., 0., 0., 0., 0., 0., 0., 0., 0., 0.],\n",
              "       [0., 0., 0., 0., 0., 0., 0., 0., 0., 0.],\n",
              "       [0., 0., 0., 0., 0., 0., 0., 0., 0., 0.],\n",
              "       [0., 0., 0., 0., 0., 0., 0., 0., 0., 0.],\n",
              "       [0., 0., 0., 0., 0., 0., 0., 0., 0., 0.],\n",
              "       [0., 0., 0., 0., 0., 0., 0., 0., 0., 0.],\n",
              "       [0., 0., 0., 0., 0., 0., 0., 0., 0., 0.],\n",
              "       [0., 0., 0., 0., 0., 0., 0., 0., 0., 0.],\n",
              "       [0., 0., 0., 0., 0., 0., 0., 0., 0., 0.]])"
            ]
          },
          "metadata": {},
          "execution_count": 10
        }
      ]
    },
    {
      "cell_type": "code",
      "source": [
        "for i in range(N):\n",
        "  for j in range(N):\n",
        "    Q[i][j] = 4*w[i]*w[j]"
      ],
      "metadata": {
        "id": "FO81pbwOhjAo"
      },
      "execution_count": 11,
      "outputs": []
    },
    {
      "cell_type": "code",
      "source": [
        "Q"
      ],
      "metadata": {
        "colab": {
          "base_uri": "https://localhost:8080/",
          "height": 0
        },
        "id": "BW-qu5rKh-f2",
        "outputId": "5cd02cfa-f033-4acd-c4cf-d6991d4a5b73"
      },
      "execution_count": 12,
      "outputs": [
        {
          "output_type": "execute_result",
          "data": {
            "text/plain": [
              "array([[0.73277763, 1.43635759, 0.83715025, 0.64058294, 0.60310824,\n",
              "        0.22026693, 0.19112022, 0.26675693, 0.64292862, 1.47387612],\n",
              "       [1.43635759, 2.81548322, 1.64094409, 1.25564173, 1.18218551,\n",
              "        0.43175728, 0.37462522, 0.52288488, 1.26023962, 2.88902535],\n",
              "       [0.83715025, 1.64094409, 0.95638911, 0.73182389, 0.6890115 ,\n",
              "        0.25164048, 0.21834229, 0.30475225, 0.73450367, 1.68380654],\n",
              "       [0.64058294, 1.25564173, 0.73182389, 0.55998777, 0.52722796,\n",
              "        0.19255397, 0.16707436, 0.23319481, 0.56203832, 1.28843986],\n",
              "       [0.60310824, 1.18218551, 0.6890115 , 0.52722796, 0.49638462,\n",
              "        0.18128938, 0.15730035, 0.2195527 , 0.52915855, 1.21306491],\n",
              "       [0.22026693, 0.43175728, 0.25164048, 0.19255397, 0.18128938,\n",
              "        0.06621043, 0.05744917, 0.08018494, 0.19325906, 0.44303504],\n",
              "       [0.19112022, 0.37462522, 0.21834229, 0.16707436, 0.15730035,\n",
              "        0.05744917, 0.04984724, 0.06957451, 0.16768615, 0.38441066],\n",
              "       [0.26675693, 0.52288488, 0.30475225, 0.23319481, 0.2195527 ,\n",
              "        0.08018494, 0.06957451, 0.09710894, 0.23404872, 0.53654295],\n",
              "       [0.64292862, 1.26023962, 0.73450367, 0.56203832, 0.52915855,\n",
              "        0.19325906, 0.16768615, 0.23404872, 0.56409639, 1.29315785],\n",
              "       [1.47387612, 2.88902535, 1.68380654, 1.28843986, 1.21306491,\n",
              "        0.44303504, 0.38441066, 0.53654295, 1.29315785, 2.96448844]])"
            ]
          },
          "metadata": {},
          "execution_count": 12
        }
      ]
    },
    {
      "cell_type": "code",
      "source": [
        "for i in range(N):\n",
        "  Q[i][i] = Q[i][i] - 4*W*w[i]"
      ],
      "metadata": {
        "id": "_rz5kGG5iA5A"
      },
      "execution_count": 13,
      "outputs": []
    },
    {
      "cell_type": "code",
      "source": [
        "Q"
      ],
      "metadata": {
        "colab": {
          "base_uri": "https://localhost:8080/",
          "height": 0
        },
        "id": "3NuaMITWip1a",
        "outputId": "8ddca5ec-e47d-48be-d57a-363953eaef7a"
      },
      "execution_count": 14,
      "outputs": [
        {
          "output_type": "execute_result",
          "data": {
            "text/plain": [
              "array([[ -6.31214785,   1.43635759,   0.83715025,   0.64058294,\n",
              "          0.60310824,   0.22026693,   0.19112022,   0.26675693,\n",
              "          0.64292862,   1.47387612],\n",
              "       [  1.43635759, -10.99366128,   1.64094409,   1.25564173,\n",
              "          1.18218551,   0.43175728,   0.37462522,   0.52288488,\n",
              "          1.26023962,   2.88902535],\n",
              "       [  0.83715025,   1.64094409,  -7.09197498,   0.73182389,\n",
              "          0.6890115 ,   0.25164048,   0.21834229,   0.30475225,\n",
              "          0.73450367,   1.68380654],\n",
              "       [  0.64058294,   1.25564173,   0.73182389,  -5.59857785,\n",
              "          0.52722796,   0.19255397,   0.16707436,   0.23319481,\n",
              "          0.56203832,   1.28843986],\n",
              "       [  0.60310824,   1.18218551,   0.6890115 ,   0.52722796,\n",
              "         -5.30189909,   0.18128938,   0.15730035,   0.2195527 ,\n",
              "          0.52915855,   1.21306491],\n",
              "       [  0.22026693,   0.43175728,   0.25164048,   0.19255397,\n",
              "          0.18128938,  -2.05143626,   0.05744917,   0.08018494,\n",
              "          0.19325906,   0.44303504],\n",
              "       [  0.19112022,   0.37462522,   0.21834229,   0.16707436,\n",
              "          0.15730035,   0.05744917,  -1.78758294,   0.06957451,\n",
              "          0.16768615,   0.38441066],\n",
              "       [  0.26675693,   0.52288488,   0.30475225,   0.23319481,\n",
              "          0.2195527 ,   0.08018494,   0.06957451,  -2.46749271,\n",
              "          0.23404872,   0.53654295],\n",
              "       [  0.64292862,   1.26023962,   0.73450367,   0.56203832,\n",
              "          0.52915855,   0.19325906,   0.16768615,   0.23404872,\n",
              "         -5.61702057,   1.29315785],\n",
              "       [  1.47387612,   2.88902535,   1.68380654,   1.28843986,\n",
              "          1.21306491,   0.44303504,   0.38441066,   0.53654295,\n",
              "          1.29315785, -11.20535929]])"
            ]
          },
          "metadata": {},
          "execution_count": 14
        }
      ]
    },
    {
      "cell_type": "code",
      "source": [
        "pip install openjij"
      ],
      "metadata": {
        "colab": {
          "base_uri": "https://localhost:8080/",
          "height": 0
        },
        "id": "rYUP5dPMiqfo",
        "outputId": "08afe3ae-f005-43ba-feb0-f29a8856f447"
      },
      "execution_count": 15,
      "outputs": [
        {
          "output_type": "stream",
          "name": "stdout",
          "text": [
            "Looking in indexes: https://pypi.org/simple, https://us-python.pkg.dev/colab-wheels/public/simple/\n",
            "Collecting openjij\n",
            "  Downloading openjij-0.7.1-cp310-cp310-manylinux_2_28_x86_64.whl (12.5 MB)\n",
            "\u001b[2K     \u001b[90m━━━━━━━━━━━━━━━━━━━━━━━━━━━━━━━━━━━━━━━━\u001b[0m \u001b[32m12.5/12.5 MB\u001b[0m \u001b[31m4.4 MB/s\u001b[0m eta \u001b[36m0:00:00\u001b[0m\n",
            "\u001b[?25hRequirement already satisfied: numpy<1.25.0,>=1.17.3 in /usr/local/lib/python3.10/dist-packages (from openjij) (1.22.4)\n",
            "Collecting dimod<0.13.0 (from openjij)\n",
            "  Downloading dimod-0.12.5-cp310-cp310-manylinux_2_17_x86_64.manylinux2014_x86_64.whl (15.6 MB)\n",
            "\u001b[2K     \u001b[90m━━━━━━━━━━━━━━━━━━━━━━━━━━━━━━━━━━━━━━━━\u001b[0m \u001b[32m15.6/15.6 MB\u001b[0m \u001b[31m50.0 MB/s\u001b[0m eta \u001b[36m0:00:00\u001b[0m\n",
            "\u001b[?25hRequirement already satisfied: scipy<1.11.0,>=1.7.3 in /usr/local/lib/python3.10/dist-packages (from openjij) (1.10.1)\n",
            "Collecting requests<2.29.0,>=2.28.0 (from openjij)\n",
            "  Downloading requests-2.28.2-py3-none-any.whl (62 kB)\n",
            "\u001b[2K     \u001b[90m━━━━━━━━━━━━━━━━━━━━━━━━━━━━━━━━━━━━━━━━\u001b[0m \u001b[32m62.8/62.8 kB\u001b[0m \u001b[31m7.4 MB/s\u001b[0m eta \u001b[36m0:00:00\u001b[0m\n",
            "\u001b[?25hCollecting jij-cimod<1.5.0,>=1.4.42 (from openjij)\n",
            "  Downloading jij_cimod-1.4.54-cp310-cp310-manylinux_2_28_x86_64.whl (11.6 MB)\n",
            "\u001b[2K     \u001b[90m━━━━━━━━━━━━━━━━━━━━━━━━━━━━━━━━━━━━━━━━\u001b[0m \u001b[32m11.6/11.6 MB\u001b[0m \u001b[31m4.0 MB/s\u001b[0m eta \u001b[36m0:00:00\u001b[0m\n",
            "\u001b[?25hRequirement already satisfied: typing-extensions>=4.2.0 in /usr/local/lib/python3.10/dist-packages (from openjij) (4.5.0)\n",
            "Requirement already satisfied: charset-normalizer<4,>=2 in /usr/local/lib/python3.10/dist-packages (from requests<2.29.0,>=2.28.0->openjij) (2.0.12)\n",
            "Requirement already satisfied: idna<4,>=2.5 in /usr/local/lib/python3.10/dist-packages (from requests<2.29.0,>=2.28.0->openjij) (3.4)\n",
            "Requirement already satisfied: urllib3<1.27,>=1.21.1 in /usr/local/lib/python3.10/dist-packages (from requests<2.29.0,>=2.28.0->openjij) (1.26.15)\n",
            "Requirement already satisfied: certifi>=2017.4.17 in /usr/local/lib/python3.10/dist-packages (from requests<2.29.0,>=2.28.0->openjij) (2022.12.7)\n",
            "Installing collected packages: requests, dimod, jij-cimod, openjij\n",
            "  Attempting uninstall: requests\n",
            "    Found existing installation: requests 2.27.1\n",
            "    Uninstalling requests-2.27.1:\n",
            "      Successfully uninstalled requests-2.27.1\n",
            "\u001b[31mERROR: pip's dependency resolver does not currently take into account all the packages that are installed. This behaviour is the source of the following dependency conflicts.\n",
            "google-colab 1.0.0 requires requests==2.27.1, but you have requests 2.28.2 which is incompatible.\u001b[0m\u001b[31m\n",
            "\u001b[0mSuccessfully installed dimod-0.12.5 jij-cimod-1.4.54 openjij-0.7.1 requests-2.28.2\n"
          ]
        }
      ]
    },
    {
      "cell_type": "code",
      "source": [
        "from openjij import SQASampler"
      ],
      "metadata": {
        "id": "iCzu-bKkjEqA"
      },
      "execution_count": 16,
      "outputs": []
    },
    {
      "cell_type": "code",
      "source": [
        "sampler = SQASampler()"
      ],
      "metadata": {
        "id": "Ri1hadcgjbzw"
      },
      "execution_count": 17,
      "outputs": []
    },
    {
      "cell_type": "code",
      "source": [
        "sampleset = sampler.sample_qubo(Q, num_reads=10)"
      ],
      "metadata": {
        "id": "S7nECl-XjnYj"
      },
      "execution_count": 18,
      "outputs": []
    },
    {
      "cell_type": "code",
      "source": [
        "print(sampleset.record)"
      ],
      "metadata": {
        "colab": {
          "base_uri": "https://localhost:8080/",
          "height": 0
        },
        "id": "6d4EaS6tj7t7",
        "outputId": "b77debef-9d82-4b11-cf68-494be02ba4cf"
      },
      "execution_count": 19,
      "outputs": [
        {
          "output_type": "stream",
          "name": "stdout",
          "text": [
            "[([1, 1, 0, 0, 0, 1, 1, 0, 1, 0], -16.81046916, 1)\n",
            " ([1, 0, 0, 1, 0, 0, 0, 0, 1, 1], -16.93105813, 1)\n",
            " ([1, 0, 1, 0, 1, 0, 1, 1, 1, 0], -16.8481282 , 1)\n",
            " ([1, 1, 1, 0, 0, 1, 1, 0, 0, 0], -16.91749625, 1)\n",
            " ([0, 1, 1, 0, 1, 1, 1, 1, 0, 0], -16.93105813, 1)\n",
            " ([1, 0, 1, 1, 1, 0, 0, 0, 1, 0], -16.92655244, 1)\n",
            " ([1, 1, 0, 1, 0, 0, 1, 1, 1, 0], -16.72697389, 1)\n",
            " ([1, 0, 1, 1, 1, 0, 0, 1, 0, 1], -15.47966804, 1)\n",
            " ([1, 0, 0, 0, 1, 1, 0, 0, 0, 1], -16.60156125, 1)\n",
            " ([0, 0, 1, 1, 0, 0, 0, 0, 1, 1], -16.92539242, 1)]\n"
          ]
        }
      ]
    },
    {
      "cell_type": "code",
      "source": [
        "x = sampleset.record[1][0]"
      ],
      "metadata": {
        "id": "w5nCJYr3kLuU"
      },
      "execution_count": 22,
      "outputs": []
    },
    {
      "cell_type": "code",
      "source": [
        "x"
      ],
      "metadata": {
        "colab": {
          "base_uri": "https://localhost:8080/",
          "height": 0
        },
        "id": "dofYHtRxlimm",
        "outputId": "1e5bb6ce-2c20-4524-dba1-0d3a5b0b16b9"
      },
      "execution_count": 23,
      "outputs": [
        {
          "output_type": "execute_result",
          "data": {
            "text/plain": [
              "array([1, 0, 0, 1, 0, 0, 0, 0, 1, 1], dtype=int8)"
            ]
          },
          "metadata": {},
          "execution_count": 23
        }
      ]
    },
    {
      "cell_type": "code",
      "source": [
        "np.dot(w, x)"
      ],
      "metadata": {
        "colab": {
          "base_uri": "https://localhost:8080/",
          "height": 0
        },
        "id": "HylTZATCljOU",
        "outputId": "5f158d34-6adf-4c81-9876-82638bb1f529"
      },
      "execution_count": 24,
      "outputs": [
        {
          "output_type": "execute_result",
          "data": {
            "text/plain": [
              "2.038590055448405"
            ]
          },
          "metadata": {},
          "execution_count": 24
        }
      ]
    },
    {
      "cell_type": "code",
      "source": [
        "W -np.dot(w, x)"
      ],
      "metadata": {
        "colab": {
          "base_uri": "https://localhost:8080/",
          "height": 0
        },
        "id": "6V2BmoN0l967",
        "outputId": "02693340-4ccb-48c6-98de-87496d0273a6"
      },
      "execution_count": 25,
      "outputs": [
        {
          "output_type": "execute_result",
          "data": {
            "text/plain": [
              "2.0763196220785707"
            ]
          },
          "metadata": {},
          "execution_count": 25
        }
      ]
    },
    {
      "cell_type": "code",
      "source": [],
      "metadata": {
        "id": "KXxB6VSgmJFw"
      },
      "execution_count": null,
      "outputs": []
    }
  ]
}